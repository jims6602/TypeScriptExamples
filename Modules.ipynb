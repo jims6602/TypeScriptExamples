{
 "cells": [
  {
   "cell_type": "markdown",
   "metadata": {},
   "source": [
    "# Transcompile TypeScript"
   ]
  },
  {
   "cell_type": "code",
   "execution_count": 3,
   "metadata": {},
   "outputs": [
    {
     "name": "stdout",
     "output_type": "stream",
     "text": [
      "Point.ts(9,9): error TS1056: Accessors are only available when targeting ECMAScript 5 and higher.\n",
      "Point.ts(13,9): error TS1056: Accessors are only available when targeting ECMAScript 5 and higher.\n",
      "Point.ts(17,9): error TS1056: Accessors are only available when targeting ECMAScript 5 and higher.\n",
      "Point.ts(21,9): error TS1056: Accessors are only available when targeting ECMAScript 5 and higher.\n"
     ]
    }
   ],
   "source": [
    "%%bash\n",
    "tsc Point.ts"
   ]
  },
  {
   "cell_type": "code",
   "execution_count": 4,
   "metadata": {},
   "outputs": [
    {
     "name": "stdout",
     "output_type": "stream",
     "text": [
      "Point.ts(9,9): error TS1056: Accessors are only available when targeting ECMAScript 5 and higher.\n",
      "Point.ts(13,9): error TS1056: Accessors are only available when targeting ECMAScript 5 and higher.\n",
      "Point.ts(17,9): error TS1056: Accessors are only available when targeting ECMAScript 5 and higher.\n",
      "Point.ts(21,9): error TS1056: Accessors are only available when targeting ECMAScript 5 and higher.\n"
     ]
    }
   ],
   "source": [
    "%%bash\n",
    "tsc main.ts"
   ]
  },
  {
   "cell_type": "markdown",
   "metadata": {},
   "source": [
    "# List the files\n",
    "See the main.js and Point.js was transcompile."
   ]
  },
  {
   "cell_type": "code",
   "execution_count": 7,
   "metadata": {},
   "outputs": [
    {
     "name": "stdout",
     "output_type": "stream",
     "text": [
      "BashCommands.ipynb\n",
      "Modules.ipynb\n",
      "Point.js\n",
      "Point.ts\n",
      "README.md\n",
      "TypeScriptInAction.js\n",
      "TypeScriptInAction.ts\n",
      "TypeScriptSyntax.ipynb\n",
      "Untitled.ipynb\n",
      "main.js\n",
      "main.ts\n"
     ]
    }
   ],
   "source": [
    "%%bash\n",
    "ls"
   ]
  },
  {
   "cell_type": "markdown",
   "metadata": {},
   "source": [
    "# Running Main"
   ]
  },
  {
   "cell_type": "code",
   "execution_count": 6,
   "metadata": {},
   "outputs": [
    {
     "name": "stdout",
     "output_type": "stream",
     "text": [
      "x :4, y: 5\n"
     ]
    }
   ],
   "source": [
    "%%bash\n",
    "node main.js"
   ]
  },
  {
   "cell_type": "code",
   "execution_count": null,
   "metadata": {},
   "outputs": [],
   "source": []
  }
 ],
 "metadata": {
  "kernelspec": {
   "display_name": "Python 3",
   "language": "python",
   "name": "python3"
  },
  "language_info": {
   "codemirror_mode": {
    "name": "ipython",
    "version": 3
   },
   "file_extension": ".py",
   "mimetype": "text/x-python",
   "name": "python",
   "nbconvert_exporter": "python",
   "pygments_lexer": "ipython3",
   "version": "3.6.4"
  }
 },
 "nbformat": 4,
 "nbformat_minor": 2
}
