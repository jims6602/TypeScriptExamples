{
 "cells": [
  {
   "cell_type": "markdown",
   "metadata": {},
   "source": [
    "# Assignment"
   ]
  },
  {
   "cell_type": "markdown",
   "metadata": {},
   "source": [
    "## Let Assignment"
   ]
  },
  {
   "cell_type": "markdown",
   "metadata": {},
   "source": [
    "Variables in JavaScript are function scoped.This is because { does not create a new variable scope. \n",
    "The variable x1 is the same inside the if block as it is outside the if block. This is a common source\n",
    "of errors in JavaScript programming."
   ]
  },
  {
   "cell_type": "code",
   "execution_count": 2,
   "metadata": {},
   "outputs": [
    {
     "name": "stdout",
     "output_type": "stream",
     "text": [
      "Using the var : 456\n"
     ]
    },
    {
     "data": {
      "text/plain": [
       "undefined"
      ]
     },
     "execution_count": 2,
     "metadata": {},
     "output_type": "execute_result"
    }
   ],
   "source": [
    "var x1 = 123;\n",
    "if (true) {\n",
    "    var x1 = 456;\n",
    "}\n",
    "console.log('Using the var : ' + x1); // 456"
   ]
  },
  {
   "cell_type": "markdown",
   "metadata": {},
   "source": [
    "This is a common source of errors in JavaScript programming. This is why TypeScript (and ES6) introduces\n",
    " the let keyword to allow you to define variables with true block scope. That is if you use let instead \n",
    " of var you get a true unique element disconnected from what you might have defined outside the scope. \n",
    " The same example is demonstrated with let:"
   ]
  },
  {
   "cell_type": "code",
   "execution_count": 3,
   "metadata": {},
   "outputs": [
    {
     "name": "stdout",
     "output_type": "stream",
     "text": [
      "Using the let : 123\n"
     ]
    },
    {
     "data": {
      "text/plain": [
       "undefined"
      ]
     },
     "execution_count": 3,
     "metadata": {},
     "output_type": "execute_result"
    }
   ],
   "source": [
    "let x2 = 123;\n",
    "if (true) {\n",
    "    let x2 = 456;\n",
    "}\n",
    "console.log('Using the let : ' + x2); // 123"
   ]
  },
  {
   "cell_type": "markdown",
   "metadata": {},
   "source": [
    "Another place where let would save you from errors is loops."
   ]
  },
  {
   "cell_type": "code",
   "execution_count": 4,
   "metadata": {},
   "outputs": [
    {
     "name": "stdout",
     "output_type": "stream",
     "text": [
      "1\n",
      "2\n",
      "3\n",
      "0\n"
     ]
    },
    {
     "data": {
      "text/plain": [
       "undefined"
      ]
     },
     "execution_count": 4,
     "metadata": {},
     "output_type": "execute_result"
    }
   ],
   "source": [
    "var index = 0;\n",
    "var array = [1, 2, 3];\n",
    "for (let index = 0; index < array.length; index++) {\n",
    "    console.log(array[index]);\n",
    "}\n",
    "console.log(index); // 0"
   ]
  },
  {
   "cell_type": "markdown",
   "metadata": {},
   "source": [
    "## Block-scoping\n",
    "When a variable is declared using let, it uses what some call lexical-scoping or block-scoping. Unlike variables\n",
    "declared with var whose scopes leak out to their containing function, block-scoped variables are not visible outside \n",
    "of their nearest containing block or for-loop."
   ]
  },
  {
   "cell_type": "code",
   "execution_count": 22,
   "metadata": {},
   "outputs": [
    {
     "name": "stdout",
     "output_type": "stream",
     "text": [
      "h(true) = 101\n",
      "h(false) = undefined\n"
     ]
    },
    {
     "data": {
      "text/plain": [
       "undefined"
      ]
     },
     "execution_count": 22,
     "metadata": {},
     "output_type": "execute_result"
    }
   ],
   "source": [
    "function h(input: boolean) {\n",
    "    let i = 100;\n",
    "\n",
    "    if (input) {\n",
    "        // Still okay to reference 'i'\n",
    "        let j = i + 1;\n",
    "        return j;\n",
    "    }\n",
    "\n",
    "    // Error: 'j' doesn't exist here\n",
    "    return j;\n",
    "}\n",
    "console.log( 'h(true) = ' +  h(true) ); \n",
    "console.log( 'h(false) = ' + h(false) ); "
   ]
  },
  {
   "cell_type": "markdown",
   "metadata": {},
   "source": [
    "## Emunerate"
   ]
  },
  {
   "cell_type": "code",
   "execution_count": 15,
   "metadata": {},
   "outputs": [
    {
     "name": "stdout",
     "output_type": "stream",
     "text": [
      "background = 0\n",
      "titleColor = 1\n"
     ]
    },
    {
     "data": {
      "text/plain": [
       "undefined"
      ]
     },
     "execution_count": 15,
     "metadata": {},
     "output_type": "execute_result"
    }
   ],
   "source": [
    "let Color = {};\n",
    "\n",
    "enum Color { Red = 0, Green = 1, Blue = 2, Purple = 3 };\n",
    "\n",
    "let backgroundColor = Color.Red;\n",
    "\n",
    "console.log('background = ' + backgroundColor );\n",
    "\n",
    "let titleColor = Color.Green;\n",
    "\n",
    "console.log('titleColor = ' + titleColor );"
   ]
  },
  {
   "cell_type": "markdown",
   "metadata": {},
   "source": [
    "## const declarations\n",
    "They are like let declarations but, as their name implies, their value cannot be changed once they are bound.\n",
    "In other words, they have the same scoping rules as let, but you can’t re-assign to them."
   ]
  },
  {
   "cell_type": "code",
   "execution_count": 17,
   "metadata": {},
   "outputs": [
    {
     "name": "stdout",
     "output_type": "stream",
     "text": [
      "g = 9\n"
     ]
    },
    {
     "data": {
      "text/plain": [
       "undefined"
      ]
     },
     "execution_count": 17,
     "metadata": {},
     "output_type": "execute_result"
    }
   ],
   "source": [
    "const g = 9;\n",
    "\n",
    "console.log( 'g = ' + g);"
   ]
  },
  {
   "cell_type": "markdown",
   "metadata": {},
   "source": [
    "# Type annotations"
   ]
  },
  {
   "cell_type": "code",
   "execution_count": 9,
   "metadata": {},
   "outputs": [
    {
     "name": "stdout",
     "output_type": "stream",
     "text": [
      "e[2] = 3\n"
     ]
    },
    {
     "data": {
      "text/plain": [
       "undefined"
      ]
     },
     "execution_count": 9,
     "metadata": {},
     "output_type": "execute_result"
    }
   ],
   "source": [
    "let a: number;\n",
    "let b: boolean;\n",
    "let c:string;\n",
    "let d:any;\n",
    "let e:number[] = [1,2,3];\n",
    "let f: any[] = [1, true, 'a', false];\n",
    "\n",
    "console.log('e[2] = '+ e[2]);"
   ]
  },
  {
   "cell_type": "markdown",
   "metadata": {},
   "source": [
    "## const declarations\n",
    "They are like let declarations but, as their name implies, their value cannot be changed once they are bound.\n",
    "In other words, they have the same scoping rules as let, but you can’t re-assign to them."
   ]
  },
  {
   "cell_type": "markdown",
   "metadata": {},
   "source": [
    "## Interfaces\n",
    "Interfaces are the core way in TypeScript to compose multiple type annotations into a single named annotation. Consider the following example:"
   ]
  },
  {
   "cell_type": "code",
   "execution_count": 23,
   "metadata": {},
   "outputs": [
    {
     "data": {
      "text/plain": [
       "{ first: 'John', second: 1337 }"
      ]
     },
     "execution_count": 23,
     "metadata": {},
     "output_type": "execute_result"
    }
   ],
   "source": [
    "interface Name {\n",
    "    first: string;\n",
    "    second: string;\n",
    "}\n",
    "\n",
    "var name: Name;\n",
    "name = {\n",
    "    first: 'John',\n",
    "    second: 'Doe'\n",
    "};\n",
    "\n",
    "name = {           // Error : `second` is missing\n",
    "    first: 'John'\n",
    "};\n",
    "name = {           // Error : `second` is the wrong type\n",
    "    first: 'John',\n",
    "    second: 1337\n",
    "};"
   ]
  },
  {
   "cell_type": "markdown",
   "metadata": {},
   "source": [
    "## null and undefined\n",
    "The null and undefined JavaScript literals are effectively treated by the type system the same as something of type any. These literals can be assigned to any other type. This is demonstrated in the below example:"
   ]
  },
  {
   "cell_type": "code",
   "execution_count": 25,
   "metadata": {},
   "outputs": [
    {
     "name": "stdout",
     "output_type": "stream",
     "text": [
      "num = null\n",
      "str = undefined\n"
     ]
    },
    {
     "data": {
      "text/plain": [
       "undefined"
      ]
     },
     "execution_count": 25,
     "metadata": {},
     "output_type": "execute_result"
    }
   ],
   "source": [
    "var num: number;\n",
    "var str: string;\n",
    "\n",
    "// These literals can be assigned to anything\n",
    "num = null;\n",
    "str = undefined;\n",
    "\n",
    "console.log('num = '+ num);\n",
    "console.log('str = '+ str);"
   ]
  },
  {
   "cell_type": "markdown",
   "metadata": {},
   "source": [
    "## :void\n",
    "Use :void to signify that a function does not have a return type:"
   ]
  },
  {
   "cell_type": "code",
   "execution_count": 26,
   "metadata": {},
   "outputs": [
    {
     "name": "stdout",
     "output_type": "stream",
     "text": [
      "Hello World! \n"
     ]
    },
    {
     "data": {
      "text/plain": [
       "undefined"
      ]
     },
     "execution_count": 26,
     "metadata": {},
     "output_type": "execute_result"
    }
   ],
   "source": [
    "function log(message): void {\n",
    "    console.log(message);\n",
    "}\n",
    "\n",
    "log( 'Hello World! ');"
   ]
  },
  {
   "cell_type": "markdown",
   "metadata": {},
   "source": [
    "### Type Assertion"
   ]
  },
  {
   "cell_type": "code",
   "execution_count": 4,
   "metadata": {},
   "outputs": [
    {
     "name": "stdout",
     "output_type": "stream",
     "text": [
      "endsWithC = true\n",
      "alternateWay = true\n"
     ]
    },
    {
     "data": {
      "text/plain": [
       "undefined"
      ]
     },
     "execution_count": 4,
     "metadata": {},
     "output_type": "execute_result"
    }
   ],
   "source": [
    "let message:string = 'abc';\n",
    "let endsWithC:boolean = (<string>message).endsWith('c');\n",
    "console.log('endsWithC = '+ endsWithC);\n",
    "\n",
    "let alternateWay:boolean = (message as string).endsWith('c');\n",
    "console.log('alternateWay = '+ alternateWay);"
   ]
  },
  {
   "cell_type": "markdown",
   "metadata": {},
   "source": [
    "# Arrow Function (Lamba Function)"
   ]
  },
  {
   "cell_type": "code",
   "execution_count": 6,
   "metadata": {},
   "outputs": [
    {
     "name": "stdout",
     "output_type": "stream",
     "text": [
      "log function: Hello\n",
      "doLog function:Hello, again\n"
     ]
    },
    {
     "data": {
      "text/plain": [
       "undefined"
      ]
     },
     "execution_count": 6,
     "metadata": {},
     "output_type": "execute_result"
    }
   ],
   "source": [
    "let log = function(message){\n",
    "    console.log('log function: '+ message);\n",
    "}\n",
    "log('Hello');\n",
    "\n",
    "//Or rewrite with Arrow Function\n",
    "\n",
    "let doLog = (message) => {\n",
    "    console.log('doLog function:' + message);\n",
    "}\n",
    "\n",
    "doLog('Hello, again');\n"
   ]
  },
  {
   "cell_type": "markdown",
   "metadata": {},
   "source": [
    "# Inline Annotation"
   ]
  },
  {
   "cell_type": "code",
   "execution_count": 12,
   "metadata": {},
   "outputs": [
    {
     "name": "stdout",
     "output_type": "stream",
     "text": [
      "point.x: 2, point.y: 3\n"
     ]
    },
    {
     "data": {
      "text/plain": [
       "undefined"
      ]
     },
     "execution_count": 12,
     "metadata": {},
     "output_type": "execute_result"
    }
   ],
   "source": [
    "let drawPoint = (point:{x:number, y:number}) =>{\n",
    "    console.log('point.x: '+ point.x + ', point.y: '+ point.y);\n",
    "}\n",
    "\n",
    "drawPoint({ x:2, y:3});"
   ]
  },
  {
   "cell_type": "markdown",
   "metadata": {},
   "source": [
    "# Interfaces\n",
    "One of TypeScript’s core principles is that type-checking focuses on the shape that values have. This is sometimes called “duck typing” or “structural subtyping”. In TypeScript, interfaces fill the role of naming these types, and are a powerful way of defining contracts within your code as well as contracts with code outside of your project."
   ]
  },
  {
   "cell_type": "code",
   "execution_count": 13,
   "metadata": {},
   "outputs": [
    {
     "name": "stdout",
     "output_type": "stream",
     "text": [
      "point.x: 2, point.y: 3\n"
     ]
    },
    {
     "data": {
      "text/plain": [
       "undefined"
      ]
     },
     "execution_count": 13,
     "metadata": {},
     "output_type": "execute_result"
    }
   ],
   "source": [
    "interface Point{\n",
    "    x:number,\n",
    "    y:number\n",
    "}\n",
    "\n",
    "\n",
    "let drawPoint = (point: Point) =>{\n",
    "    console.log('point.x: '+ point.x + ', point.y: '+ point.y);\n",
    "}\n",
    "\n",
    "drawPoint({ x:2, y:3});"
   ]
  },
  {
   "cell_type": "markdown",
   "metadata": {},
   "source": [
    "# Classes\n",
    "Groups variables (properties) and functions (methods) that are hightly related."
   ]
  },
  {
   "cell_type": "code",
   "execution_count": 18,
   "metadata": {},
   "outputs": [
    {
     "name": "stdout",
     "output_type": "stream",
     "text": [
      "x :2, y: 3\n"
     ]
    },
    {
     "data": {
      "text/plain": [
       "undefined"
      ]
     },
     "execution_count": 18,
     "metadata": {},
     "output_type": "execute_result"
    }
   ],
   "source": [
    "class Point {\n",
    "    x: number;\n",
    "    y: number;\n",
    "\n",
    "    draw() {\n",
    "        console.log('x :' + this.x + ', y: ' + this.y);\n",
    "    };\n",
    "};\n",
    "\n",
    "let point = new Point();\n",
    "\n",
    "point.x = 2;\n",
    "point.y = 3;\n",
    "\n",
    "point.draw();\n"
   ]
  },
  {
   "cell_type": "markdown",
   "metadata": {},
   "source": [
    "# Constructor\n",
    "The question mark made the parameters in the constructor optional."
   ]
  },
  {
   "cell_type": "code",
   "execution_count": 19,
   "metadata": {},
   "outputs": [
    {
     "name": "stdout",
     "output_type": "stream",
     "text": [
      "x :2, y: 3\n"
     ]
    },
    {
     "data": {
      "text/plain": [
       "undefined"
      ]
     },
     "execution_count": 19,
     "metadata": {},
     "output_type": "execute_result"
    }
   ],
   "source": [
    "class Point {\n",
    "    x: number;\n",
    "    y: number;\n",
    "    \n",
    "    constructor(x?: number, y?: number){\n",
    "        this.x = x;\n",
    "        this.y = y;\n",
    "    }\n",
    "\n",
    "    draw() {\n",
    "        console.log('x :' + this.x + ', y: ' + this.y);\n",
    "    };\n",
    "};\n",
    "\n",
    "let point = new Point(2,3);\n",
    "point.draw();\n"
   ]
  },
  {
   "cell_type": "markdown",
   "metadata": {},
   "source": [
    "# Access Modifiers\n",
    "* public\n",
    "* private\n",
    "* protected"
   ]
  },
  {
   "cell_type": "code",
   "execution_count": 1,
   "metadata": {},
   "outputs": [
    {
     "name": "stdout",
     "output_type": "stream",
     "text": [
      "x :2, y: 3\n"
     ]
    },
    {
     "data": {
      "text/plain": [
       "undefined"
      ]
     },
     "execution_count": 1,
     "metadata": {},
     "output_type": "execute_result"
    }
   ],
   "source": [
    "class Point {\n",
    "    private x: number;\n",
    "    private y: number;\n",
    "    \n",
    "    constructor(x?: number, y?: number){\n",
    "        this.x = x;\n",
    "        this.y = y;\n",
    "    }\n",
    "\n",
    "    private draw() {\n",
    "        console.log('x :' + this.x + ', y: ' + this.y);\n",
    "    };\n",
    "};\n",
    "\n",
    "let point = new Point(2,3);\n",
    "point.draw();"
   ]
  },
  {
   "cell_type": "code",
   "execution_count": 2,
   "metadata": {},
   "outputs": [
    {
     "name": "stdout",
     "output_type": "stream",
     "text": [
      "x :2, y: 3\n"
     ]
    },
    {
     "data": {
      "text/plain": [
       "undefined"
      ]
     },
     "execution_count": 2,
     "metadata": {},
     "output_type": "execute_result"
    }
   ],
   "source": [
    "class Point {\n",
    "    constructor(private x?: number, private y?: number){\n",
    "    }\n",
    "\n",
    "    draw() {\n",
    "        console.log('x :' + this.x + ', y: ' + this.y);\n",
    "    };\n",
    "};\n",
    "\n",
    "let point = new Point(2,3);\n",
    "point.draw();"
   ]
  },
  {
   "cell_type": "markdown",
   "metadata": {},
   "source": [
    "# Properties"
   ]
  },
  {
   "cell_type": "code",
   "execution_count": 4,
   "metadata": {},
   "outputs": [
    {
     "name": "stdout",
     "output_type": "stream",
     "text": [
      "x :4, y: 5\n"
     ]
    },
    {
     "data": {
      "text/plain": [
       "undefined"
      ]
     },
     "execution_count": 4,
     "metadata": {},
     "output_type": "execute_result"
    }
   ],
   "source": [
    "class Point {\n",
    "    constructor(private _x?: number, private _y?: number){\n",
    "    }\n",
    "\n",
    "    draw() {\n",
    "        console.log('x :' + this._x + ', y: ' + this._y);\n",
    "    };\n",
    "    \n",
    "    get x(){\n",
    "        return this._x;\n",
    "    }\n",
    "    \n",
    "    set x(value){\n",
    "        this._x = value;\n",
    "    }\n",
    "    \n",
    "    get y(){\n",
    "        return this._y;\n",
    "    }\n",
    "    \n",
    "    set y(value){\n",
    "        this._y = value;\n",
    "    }\n",
    "};\n",
    "\n",
    "let point = new Point();\n",
    "\n",
    "point.x = 4;\n",
    "point.y = 5;\n",
    "\n",
    "point.draw();"
   ]
  }
 ],
 "metadata": {
  "kernelspec": {
   "display_name": "Typescript 2.9",
   "language": "typescript",
   "name": "typescript"
  },
  "language_info": {
   "file_extension": ".ts",
   "mimetype": "text/x-typescript",
   "name": "typescript",
   "version": "2.9.2"
  }
 },
 "nbformat": 4,
 "nbformat_minor": 2
}
